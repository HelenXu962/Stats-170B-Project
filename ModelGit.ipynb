{
 "cells": [
  {
   "cell_type": "code",
   "execution_count": 1,
   "metadata": {},
   "outputs": [],
   "source": [
    "import json\n",
    "import pandas as pd\n",
    "import numpy as np\n",
    "import mltools as ml\n",
    "# import relevant parts of sklearn\n",
    "from sklearn import cluster, datasets, linear_model, preprocessing\n",
    "from sklearn.metrics import *\n",
    "#mean_squared_error, r2_score\n",
    "\n",
    "# We'll also import seaborn, a Python graphing library\n",
    "# (you may need to run >conda install seaborn (if using Anaconda)) \n",
    "import seaborn as sns\n",
    "\n",
    "# and matplotlib\n",
    "import matplotlib.pyplot as plt\n",
    "sns.set(style=\"white\", color_codes=True) \n",
    "plt.style.use('ggplot')\n",
    "%matplotlib inline\n",
    "\n",
    "import scipy.stats as stats\n",
    "\n",
    "# and turn off annoying warnings...(if we were writing \"real code\" we shouldn't do this)\n",
    "import warnings \n",
    "warnings.simplefilter('ignore')\n",
    "\n",
    "from sklearn.ensemble import RandomForestClassifier\n",
    "from sklearn import metrics"
   ]
  },
  {
   "cell_type": "code",
   "execution_count": 2,
   "metadata": {},
   "outputs": [],
   "source": [
    "user = pd.read_csv('/Users/yangtang/Desktop/user.csv')"
   ]
  },
  {
   "cell_type": "code",
   "execution_count": 3,
   "metadata": {},
   "outputs": [
    {
     "data": {
      "text/html": [
       "<div>\n",
       "<style scoped>\n",
       "    .dataframe tbody tr th:only-of-type {\n",
       "        vertical-align: middle;\n",
       "    }\n",
       "\n",
       "    .dataframe tbody tr th {\n",
       "        vertical-align: top;\n",
       "    }\n",
       "\n",
       "    .dataframe thead th {\n",
       "        text-align: right;\n",
       "    }\n",
       "</style>\n",
       "<table border=\"1\" class=\"dataframe\">\n",
       "  <thead>\n",
       "    <tr style=\"text-align: right;\">\n",
       "      <th></th>\n",
       "      <th>create_at</th>\n",
       "      <th>text</th>\n",
       "      <th>domain</th>\n",
       "      <th>source_reliability</th>\n",
       "      <th>gender</th>\n",
       "      <th>Age</th>\n",
       "      <th>confirmed_number</th>\n",
       "      <th>account_age</th>\n",
       "      <th>user_attitude</th>\n",
       "      <th>followers_count</th>\n",
       "      <th>friends_count</th>\n",
       "      <th>stateName</th>\n",
       "      <th>reliability</th>\n",
       "    </tr>\n",
       "  </thead>\n",
       "  <tbody>\n",
       "    <tr>\n",
       "      <th>0</th>\n",
       "      <td>2020-01-22T01:03:05.000Z</td>\n",
       "      <td>the microbiologist in me is cringing over “1st...</td>\n",
       "      <td>cbc</td>\n",
       "      <td>a</td>\n",
       "      <td>Unknow</td>\n",
       "      <td>Unknow</td>\n",
       "      <td>555</td>\n",
       "      <td>8</td>\n",
       "      <td>neutral</td>\n",
       "      <td>225</td>\n",
       "      <td>196</td>\n",
       "      <td>Texas</td>\n",
       "      <td>FAKE</td>\n",
       "    </tr>\n",
       "    <tr>\n",
       "      <th>1</th>\n",
       "      <td>2020-01-22T02:50:41.000Z</td>\n",
       "      <td>First confirmed coronavirus case identified in...</td>\n",
       "      <td>twitter</td>\n",
       "      <td>a</td>\n",
       "      <td>Unknow</td>\n",
       "      <td>Unknow</td>\n",
       "      <td>555</td>\n",
       "      <td>10</td>\n",
       "      <td>neutral</td>\n",
       "      <td>6819</td>\n",
       "      <td>4040</td>\n",
       "      <td>Texas</td>\n",
       "      <td>FAKE</td>\n",
       "    </tr>\n",
       "    <tr>\n",
       "      <th>2</th>\n",
       "      <td>2020-01-22T05:45:31.000Z</td>\n",
       "      <td>Coronavirus 2019 is now a notifiable condition...</td>\n",
       "      <td>youtu</td>\n",
       "      <td>b</td>\n",
       "      <td>Unknow</td>\n",
       "      <td>Unknow</td>\n",
       "      <td>555</td>\n",
       "      <td>9</td>\n",
       "      <td>neutral</td>\n",
       "      <td>11392</td>\n",
       "      <td>11527</td>\n",
       "      <td>Maryland</td>\n",
       "      <td>FAKE</td>\n",
       "    </tr>\n",
       "  </tbody>\n",
       "</table>\n",
       "</div>"
      ],
      "text/plain": [
       "                  create_at  \\\n",
       "0  2020-01-22T01:03:05.000Z   \n",
       "1  2020-01-22T02:50:41.000Z   \n",
       "2  2020-01-22T05:45:31.000Z   \n",
       "\n",
       "                                                text   domain  \\\n",
       "0  the microbiologist in me is cringing over “1st...      cbc   \n",
       "1  First confirmed coronavirus case identified in...  twitter   \n",
       "2  Coronavirus 2019 is now a notifiable condition...    youtu   \n",
       "\n",
       "  source_reliability  gender     Age  confirmed_number  account_age  \\\n",
       "0                  a  Unknow  Unknow               555            8   \n",
       "1                  a  Unknow  Unknow               555           10   \n",
       "2                  b  Unknow  Unknow               555            9   \n",
       "\n",
       "  user_attitude  followers_count  friends_count stateName reliability  \n",
       "0       neutral              225            196     Texas        FAKE  \n",
       "1       neutral             6819           4040     Texas        FAKE  \n",
       "2       neutral            11392          11527  Maryland        FAKE  "
      ]
     },
     "execution_count": 3,
     "metadata": {},
     "output_type": "execute_result"
    }
   ],
   "source": [
    "user[:3]"
   ]
  },
  {
   "cell_type": "code",
   "execution_count": 4,
   "metadata": {},
   "outputs": [
    {
     "data": {
      "text/plain": [
       "25238"
      ]
     },
     "execution_count": 4,
     "metadata": {},
     "output_type": "execute_result"
    }
   ],
   "source": [
    "len(user)"
   ]
  },
  {
   "cell_type": "code",
   "execution_count": 5,
   "metadata": {},
   "outputs": [],
   "source": [
    "np.random.seed(0)\n",
    "Y = user[user.columns[-1]]\n",
    "#Y = user[user.columns[-1]].astype('category').cat.codes\n",
    "X= user[['followers_count','friends_count','stateName',\"source_reliability\",\"Age\",\"gender\",\"confirmed_number\",'account_age','user_attitude']]\n",
    "X[\"stateName\"] = X[\"stateName\"].astype('category').cat.codes\n",
    "X[\"source_reliability\"] = X[\"source_reliability\"].astype('category').cat.codes\n",
    "X['user_attitude'] = X['user_attitude'].astype('category').cat.codes\n",
    "X[\"Age\"] = X[\"Age\"].astype('category').cat.codes\n",
    "X[\"gender\"] = X[\"gender\"].astype('category').cat.codes\n",
    "X[\"confirmed_number\"] = X[\"confirmed_number\"]\n",
    "X['account_age'] = X['account_age']"
   ]
  },
  {
   "cell_type": "code",
   "execution_count": 6,
   "metadata": {
    "scrolled": true
   },
   "outputs": [
    {
     "data": {
      "text/plain": [
       "Index(['followers_count', 'friends_count', 'stateName', 'source_reliability',\n",
       "       'Age', 'gender', 'confirmed_number', 'account_age', 'user_attitude'],\n",
       "      dtype='object')"
      ]
     },
     "execution_count": 6,
     "metadata": {},
     "output_type": "execute_result"
    }
   ],
   "source": [
    "X.columns"
   ]
  },
  {
   "cell_type": "code",
   "execution_count": 7,
   "metadata": {},
   "outputs": [
    {
     "data": {
      "text/plain": [
       "id\n",
       "1219787532688379905    FAKE\n",
       "1219814614206177281    FAKE\n",
       "1219858612299931649    FAKE\n",
       "1219897414024384513    FAKE\n",
       "1219943002443014145    FAKE\n",
       "                       ... \n",
       "1238129818119667712    FAKE\n",
       "1238129966715297794    FAKE\n",
       "1238130651615973376    FAKE\n",
       "1238131496478814209    REAL\n",
       "1238132034545090560    FAKE\n",
       "Name: reliability, Length: 39805, dtype: object"
      ]
     },
     "execution_count": 7,
     "metadata": {},
     "output_type": "execute_result"
    }
   ],
   "source": [
    "Y"
   ]
  },
  {
   "cell_type": "code",
   "execution_count": null,
   "metadata": {},
   "outputs": [],
   "source": []
  },
  {
   "cell_type": "code",
   "execution_count": 10,
   "metadata": {},
   "outputs": [
    {
     "name": "stdout",
     "output_type": "stream",
     "text": [
      "K-value= 1  Error Rate Test= 0.2846256908390554\n",
      "K-value= 1  Error Rate Train= 0.010766966945411478\n",
      "\n",
      "K-value= 10  Error Rate Test= 0.2143694523530397\n",
      "K-value= 10  Error Rate Train= 0.19534867027958225\n",
      "\n",
      "K-value= 50  Error Rate Test= 0.20725171663038017\n",
      "K-value= 50  Error Rate Train= 0.2042134730646377\n",
      "\n",
      "K-value= 100  Error Rate Test= 0.20708424049572935\n",
      "K-value= 100  Error Rate Train= 0.2040340236155475\n",
      "\n",
      "K-value= 500  Error Rate Test= 0.20708424049572935\n",
      "K-value= 500  Error Rate Train= 0.2040340236155475\n",
      "\n",
      "K-value= 1000  Error Rate Test= 0.20708424049572935\n",
      "K-value= 1000  Error Rate Train= 0.2040340236155475\n",
      "\n",
      "K-value= 2000  Error Rate Test= 0.20708424049572935\n",
      "K-value= 2000  Error Rate Train= 0.2040340236155475\n",
      "\n",
      "K-value= 5000  Error Rate Test= 0.20708424049572935\n",
      "K-value= 5000  Error Rate Train= 0.2040340236155475\n",
      "\n",
      "Training and validation error as a function of K:\n"
     ]
    },
    {
     "data": {
      "image/png": "[encoded data removed]",
      "text/plain": [
       "<Figure size 360x288 with 1 Axes>"
      ]
     },
     "metadata": {
      "needs_background": "light"
     },
     "output_type": "display_data"
    }
   ],
   "source": [
    "#KNN at different K values\n",
    "from sklearn.neighbors import KNeighborsClassifier\n",
    "from sklearn.model_selection import train_test_split\n",
    "X_train, X_test, y_train, y_test = train_test_split(X, Y, test_size=0.3)\n",
    "K=[1,10,50,100,500,1000,2000,5000]\n",
    "fig, ax = plt.subplots(1, 1, figsize=(5, 4))\n",
    "a=[]\n",
    "b=[]\n",
    "for k in K:\n",
    "    knn = KNeighborsClassifier(n_neighbors=k)\n",
    "    knn.fit(X_train,y_train)\n",
    "    yp=knn.predict(X_test).tolist()\n",
    "    ypp=knn.predict(X_train).tolist()\n",
    "    \n",
    "    count=0\n",
    "    for i in range(len(yp)):\n",
    "        if yp[i] != y_test.tolist()[i]:\n",
    "            count+=1\n",
    "    a.append(count/len(yp))\n",
    "    print(\"K-value=\",k,\" Error Rate Test=\",count/len(yp))\n",
    "    \n",
    "    count2=0\n",
    "    for i in range(len(ypp)):\n",
    "        if ypp[i] != y_train.tolist()[i]:\n",
    "            count2+=1\n",
    "    b.append(count2/len(ypp))\n",
    "    print(\"K-value=\",k,\" Error Rate Train=\",count2/len(ypp))\n",
    "    print()\n",
    "    \n",
    "ax.semilogx(K, b, 'r-', lw=3, label='Training') \n",
    "ax.semilogx(K, a, 'g-', lw=3, label='Validation') \n",
    "ax.legend()\n",
    "ax.set_ylabel(\"Error Rate\")\n",
    "ax.set_xlabel(\"K value\")\n",
    "ax.set_xticks([1,10,50,100,500,1000,2000,5000])\n",
    "ax.set_xticklabels([1,10,50,100,500,1000,2000,5000])\n",
    "print(\"Training and validation error as a function of K:\") \n",
    "plt.show()"
   ]
  },
  {
   "cell_type": "code",
   "execution_count": 11,
   "metadata": {},
   "outputs": [
    {
     "name": "stdout",
     "output_type": "stream",
     "text": [
      "Validation error as a function of K:\n"
     ]
    },
    {
     "data": {
      "image/png": "[encoded data removed]",
      "text/plain": [
       "<Figure size 432x288 with 1 Axes>"
      ]
     },
     "metadata": {
      "needs_background": "light"
     },
     "output_type": "display_data"
    }
   ],
   "source": [
    "fig, ax = plt.subplots(1, 1, figsize=(6, 4))\n",
    "#ax.semilogx(K, b, 'r-', lw=3, label='Training') \n",
    "ax.semilogx(K, a, 'g-', lw=3, label='Validation') \n",
    "ax.legend()\n",
    "ax.set_ylabel(\"Error Rate\")\n",
    "ax.set_xlabel(\"K value\")\n",
    "print(\"Validation error as a function of K:\") \n",
    "ax.set_xticks([1,10,50,100,500,1000,2000,5000])\n",
    "ax.set_xticklabels([1,10,50,100,500,1000,2000,5000])\n",
    "plt.show()"
   ]
  },
  {
   "cell_type": "code",
   "execution_count": null,
   "metadata": {},
   "outputs": [],
   "source": []
  },
  {
   "cell_type": "code",
   "execution_count": null,
   "metadata": {},
   "outputs": [],
   "source": []
  },
  {
   "cell_type": "code",
   "execution_count": null,
   "metadata": {},
   "outputs": [],
   "source": []
  },
  {
   "cell_type": "code",
   "execution_count": 12,
   "metadata": {},
   "outputs": [
    {
     "name": "stdout",
     "output_type": "stream",
     "text": [
      "0.1\n",
      "Accuracy: 0.8136146696809847\n",
      "Accuracy: 0.9882201875837427\n",
      "0.3\n",
      "Accuracy: 0.8133478479316697\n",
      "Accuracy: 0.9898431611814952\n",
      "0.5\n",
      "Accuracy: 0.8073154800783802\n",
      "Accuracy: 0.9918601145613506\n",
      "0.75\n",
      "Accuracy: 0.8011321765927514\n",
      "Accuracy: 0.9957793186614411\n",
      "0.9\n",
      "Accuracy: 0.7968736915561758\n",
      "Accuracy: 0.9972361809045226\n"
     ]
    }
   ],
   "source": [
    "#RandomForest at different test data size\n",
    "from sklearn.model_selection import train_test_split\n",
    "sp=[0.1,0.3,0.5,0.75,0.9]\n",
    "spa=[]\n",
    "spb=[]\n",
    "for i in sp:\n",
    "    print(i)\n",
    "    X_train, X_test, y_train, y_test = train_test_split(X, Y, test_size=i) \n",
    "    clf=RandomForestClassifier(n_estimators=200)\n",
    "    clf.fit(X_train,y_train)\n",
    "    \n",
    "    y_pred=clf.predict(X_test)\n",
    "    a=metrics.accuracy_score(y_test, y_pred)\n",
    "    spa.append(a)\n",
    "    print(\"Accuracy:\",a)\n",
    "    \n",
    "    y_pred2=clf.predict(X_train)\n",
    "    b=metrics.accuracy_score(y_train, y_pred2)\n",
    "    spb.append(b)\n",
    "    print(\"Accuracy:\",b)"
   ]
  },
  {
   "cell_type": "code",
   "execution_count": 18,
   "metadata": {},
   "outputs": [
    {
     "name": "stdout",
     "output_type": "stream",
     "text": [
      "Training and Validation Accuracy at different test data size:\n"
     ]
    },
    {
     "data": {
      "image/png": "[encoded data removed]",
      "text/plain": [
       "<Figure size 360x288 with 1 Axes>"
      ]
     },
     "metadata": {
      "needs_background": "light"
     },
     "output_type": "display_data"
    }
   ],
   "source": [
    "fig, ax = plt.subplots(1, 1, figsize=(5, 4))\n",
    "ax.semilogx(sp,spb, 'r-', lw=3, label='Training') \n",
    "ax.semilogx(sp,spa, 'g-', lw=3, label='Validation') \n",
    "ax.legend()\n",
    "ax.set_ylabel(\"Accuracy\")\n",
    "ax.set_xlabel(\"Test data size\")\n",
    "#plt.ylim(0.5, 1.2)\n",
    "ax.set_xticks([0.1,0.3,0.5,0.75,0.9])\n",
    "ax.set_xticklabels([0.1,0.3,0.5,0.75,0.9])\n",
    "print(\"Training and Validation Accuracy at different test data size:\") \n",
    "plt.show()"
   ]
  },
  {
   "cell_type": "code",
   "execution_count": 19,
   "metadata": {},
   "outputs": [
    {
     "name": "stdout",
     "output_type": "stream",
     "text": [
      "Training Accuracy at different test data size:\n"
     ]
    },
    {
     "data": {
      "image/png": "[encoded data removed]",
      "text/plain": [
       "<Figure size 360x288 with 1 Axes>"
      ]
     },
     "metadata": {
      "needs_background": "light"
     },
     "output_type": "display_data"
    }
   ],
   "source": [
    "fig, ax = plt.subplots(1, 1, figsize=(5, 4))\n",
    "ax.semilogx(sp,spb, 'r-', lw=3, label='Training') \n",
    "ax.legend()\n",
    "ax.set_ylabel(\"Accuracy\")\n",
    "ax.set_xlabel(\"Test data size\")\n",
    "#plt.ylim(0.5, 1.2)\n",
    "ax.set_xticks([0.1,0.3,0.5,0.75,0.9])\n",
    "ax.set_xticklabels([0.1,0.3,0.5,0.75,0.9])\n",
    "print(\"Training Accuracy at different test data size:\") \n",
    "plt.show()"
   ]
  },
  {
   "cell_type": "code",
   "execution_count": 20,
   "metadata": {},
   "outputs": [
    {
     "name": "stdout",
     "output_type": "stream",
     "text": [
      "Validation Accuracy at different test data size:\n"
     ]
    },
    {
     "data": {
      "image/png": "[encoded data removed]",
      "text/plain": [
       "<Figure size 360x288 with 1 Axes>"
      ]
     },
     "metadata": {
      "needs_background": "light"
     },
     "output_type": "display_data"
    }
   ],
   "source": [
    "fig, ax = plt.subplots(1, 1, figsize=(5, 4))\n",
    "ax.semilogx(sp,spa, 'g-', lw=3, label='Validation') \n",
    "ax.legend()\n",
    "ax.set_ylabel(\"Accuracy\")\n",
    "ax.set_xlabel(\"Test data size\")\n",
    "#plt.ylim(0.5, 1.2)\n",
    "ax.set_xticks([0.1,0.3,0.5,0.75,0.9])\n",
    "ax.set_xticklabels([0.1,0.3,0.5,0.75,0.9])\n",
    "print(\"Validation Accuracy at different test data size:\") \n",
    "plt.show()"
   ]
  },
  {
   "cell_type": "code",
   "execution_count": null,
   "metadata": {},
   "outputs": [],
   "source": []
  },
  {
   "cell_type": "code",
   "execution_count": 14,
   "metadata": {},
   "outputs": [
    {
     "name": "stdout",
     "output_type": "stream",
     "text": [
      "50\n",
      "Accuracy: 0.8037179701892481\n",
      "Accuracy: 0.9889100240462262\n",
      "100\n",
      "Accuracy: 0.807234969016915\n",
      "Accuracy: 0.9894842622833148\n",
      "200\n",
      "Accuracy: 0.808658516161447\n",
      "Accuracy: 0.9895560420629509\n",
      "500\n",
      "Accuracy: 0.8070674928822643\n",
      "Accuracy: 0.9895560420629509\n",
      "1000\n",
      "Accuracy: 0.8077373974208675\n",
      "Accuracy: 0.9895560420629509\n",
      "2000\n",
      "Accuracy: 0.8088259922960978\n",
      "Accuracy: 0.9895560420629509\n",
      "5000\n",
      "Accuracy: 0.8079886116228437\n",
      "Accuracy: 0.9895560420629509\n"
     ]
    }
   ],
   "source": [
    "#RandomForest at different n_estimator\n",
    "from sklearn.model_selection import train_test_split\n",
    "X_train, X_test, y_train, y_test = train_test_split(X, Y, test_size=0.3) \n",
    "ne=[50,100,200,500,1000,2000,5000]\n",
    "acc=[]\n",
    "bcc=[]\n",
    "for i in ne:\n",
    "    print(i)\n",
    "    clf=RandomForestClassifier(n_estimators=i)\n",
    "    clf.fit(X_train,y_train)\n",
    "    \n",
    "    y_pred=clf.predict(X_test)\n",
    "    a=metrics.accuracy_score(y_test, y_pred)\n",
    "    acc.append(a)\n",
    "    print(\"Accuracy:\",a)\n",
    "    \n",
    "    y_pred2=clf.predict(X_train)\n",
    "    b=metrics.accuracy_score(y_train, y_pred2)\n",
    "    bcc.append(b)\n",
    "    print(\"Accuracy:\",b)"
   ]
  },
  {
   "cell_type": "code",
   "execution_count": 15,
   "metadata": {},
   "outputs": [
    {
     "name": "stdout",
     "output_type": "stream",
     "text": [
      "Validation and Training accuracy at different n_estimators:\n"
     ]
    },
    {
     "data": {
      "image/png": "[encoded data removed]",
      "text/plain": [
       "<Figure size 360x288 with 1 Axes>"
      ]
     },
     "metadata": {
      "needs_background": "light"
     },
     "output_type": "display_data"
    }
   ],
   "source": [
    "fig, ax = plt.subplots(1, 1, figsize=(5, 4))\n",
    "ax.semilogx(ne,bcc, 'r-', lw=3, label='Training') \n",
    "ax.semilogx(ne,acc, 'g-', lw=3, label='Validation') \n",
    "ax.legend()\n",
    "ax.set_ylabel(\"Accuracy\")\n",
    "ax.set_xlabel(\"n_estimators\")\n",
    "#plt.ylim(0.5, 1.2)\n",
    "ax.set_xticks([50,100,200,500,1000,2000,5000])\n",
    "ax.set_xticklabels([50,100,200,500,1000,2000,5000])\n",
    "print(\"Validation and Training accuracy at different n_estimators:\") \n",
    "plt.show()"
   ]
  },
  {
   "cell_type": "code",
   "execution_count": 16,
   "metadata": {},
   "outputs": [
    {
     "name": "stdout",
     "output_type": "stream",
     "text": [
      "Validation accuracy at different n_estimators:\n"
     ]
    },
    {
     "data": {
      "image/png": "[encoded data removed]",
      "text/plain": [
       "<Figure size 360x288 with 1 Axes>"
      ]
     },
     "metadata": {
      "needs_background": "light"
     },
     "output_type": "display_data"
    }
   ],
   "source": [
    "fig, ax = plt.subplots(1, 1, figsize=(5, 4))\n",
    "ax.semilogx(ne,acc, 'g-', lw=3, label='Validation') \n",
    "ax.legend()\n",
    "ax.set_ylabel(\"Accuracy\")\n",
    "ax.set_xlabel(\"n_estimators\")\n",
    "#plt.ylim(0.5, 1.2)\n",
    "ax.set_xticks([50,100,200,500,1000,2000,5000])\n",
    "ax.set_xticklabels([50,100,200,500,1000,2000,5000])\n",
    "print(\"Validation accuracy at different n_estimators:\") \n",
    "plt.show()"
   ]
  },
  {
   "cell_type": "code",
   "execution_count": 17,
   "metadata": {},
   "outputs": [
    {
     "name": "stdout",
     "output_type": "stream",
     "text": [
      "Training accuracy at different n_estimators:\n"
     ]
    },
    {
     "data": {
      "image/png": "[encoded data removed]",
      "text/plain": [
       "<Figure size 360x288 with 1 Axes>"
      ]
     },
     "metadata": {
      "needs_background": "light"
     },
     "output_type": "display_data"
    }
   ],
   "source": [
    "fig, ax = plt.subplots(1, 1, figsize=(5, 4))\n",
    "ax.semilogx(ne,bcc, 'r-', lw=3, label='Training') \n",
    "ax.legend()\n",
    "ax.set_ylabel(\"Accuracy\")\n",
    "ax.set_xlabel(\"n_estimators\")\n",
    "#plt.ylim(0.5, 1.2)\n",
    "ax.set_xticks([50,100,200,500,1000,2000,5000])\n",
    "ax.set_xticklabels([50,100,200,500,1000,2000,5000])\n",
    "print(\"Training accuracy at different n_estimators:\") \n",
    "plt.show()"
   ]
  },
  {
   "cell_type": "code",
   "execution_count": null,
   "metadata": {},
   "outputs": [],
   "source": []
  },
  {
   "cell_type": "code",
   "execution_count": null,
   "metadata": {},
   "outputs": [],
   "source": []
  },
  {
   "cell_type": "code",
   "execution_count": 25,
   "metadata": {},
   "outputs": [
    {
     "name": "stdout",
     "output_type": "stream",
     "text": [
      "Accuracy: 0.8101658013733043\n"
     ]
    }
   ],
   "source": [
    "from sklearn.model_selection import train_test_split\n",
    "X_train, X_test, y_train, y_test = train_test_split(X, Y, test_size=0.3) \n",
    "clf=RandomForestClassifier(n_estimators=2000)\n",
    "clf.fit(X_train,y_train)\n",
    "y_pred=clf.predict(X_test)\n",
    "print(\"Accuracy:\",metrics.accuracy_score(y_test, y_pred))"
   ]
  },
  {
   "cell_type": "code",
   "execution_count": 36,
   "metadata": {},
   "outputs": [
    {
     "name": "stdout",
     "output_type": "stream",
     "text": [
      "Feature ranking:\n",
      "1. feature 0 (0.212801)\n",
      "2. feature 1 (0.208609)\n",
      "3. feature 6 (0.156437)\n",
      "4. feature 3 (0.121538)\n",
      "5. feature 2 (0.110813)\n",
      "6. feature 7 (0.085936)\n",
      "7. feature 8 (0.041556)\n",
      "8. feature 4 (0.040065)\n",
      "9. feature 5 (0.022247)\n"
     ]
    },
    {
     "data": {
      "image/png": "[encoded data removed]",
      "text/plain": [
       "<Figure size 1080x360 with 1 Axes>"
      ]
     },
     "metadata": {
      "needs_background": "light"
     },
     "output_type": "display_data"
    }
   ],
   "source": [
    "# feature_importances\n",
    "importances = clf.feature_importances_\n",
    "std = np.std([tree.feature_importances_ for tree in clf.estimators_],\n",
    "             axis=0)\n",
    "indices = np.argsort(importances)[::-1]\n",
    "\n",
    "print(\"Feature ranking:\")\n",
    "for f in range(X.shape[1]):\n",
    "    print(\"%d. feature %d (%f)\" % (f + 1, indices[f], importances[indices[f]]))\n",
    "\n",
    "# Plot the impurity-based feature importances of the forest\n",
    "plt.figure(figsize=(15,5))\n",
    "plt.title(\"Feature importances\")\n",
    "plt.bar(range(X.shape[1]), importances[indices],\n",
    "        color=\"r\", yerr=std[indices], align=\"center\")\n",
    "#plt.xticks(range(X.shape[1]), indices)\n",
    "plt.xlim([-1, X.shape[1]])\n",
    "plt.xticks(range(X.shape[1]),['followers_count', 'friends_count', 'confirmed_number', 'source_reliability','stateName','account_age',  'user_attitude','Age', 'gender'])\n",
    "plt.show()"
   ]
  },
  {
   "cell_type": "code",
   "execution_count": null,
   "metadata": {},
   "outputs": [],
   "source": []
  },
  {
   "cell_type": "code",
   "execution_count": null,
   "metadata": {},
   "outputs": [],
   "source": []
  }
 ],
 "metadata": {
  "kernelspec": {
   "display_name": "Python 3",
   "language": "python",
   "name": "python3"
  },
  "language_info": {
   "codemirror_mode": {
    "name": "ipython",
    "version": 3
   },
   "file_extension": ".py",
   "mimetype": "text/x-python",
   "name": "python",
   "nbconvert_exporter": "python",
   "pygments_lexer": "ipython3",
   "version": "3.8.1"
  }
 },
 "nbformat": 4,
 "nbformat_minor": 2
}
